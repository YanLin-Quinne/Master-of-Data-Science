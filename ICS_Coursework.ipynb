{
 "cells": [
  {
   "cell_type": "markdown",
   "id": "22c3340f",
   "metadata": {},
   "source": [
    "## Introduction to Computer Science Coursework\n",
    "### Written by Yan Lin,  submitted on 4 November, 2022"
   ]
  },
  {
   "cell_type": "markdown",
   "id": "564c32c1",
   "metadata": {},
   "source": [
    "### Companion Jupyter Notebook"
   ]
  },
  {
   "cell_type": "markdown",
   "id": "f971ce28",
   "metadata": {},
   "source": [
    "#### Section1 \n",
    "Question1. Write a function to generate two Python lists of the same size that contain random integer data. The function should take as an argument the desired size of the list."
   ]
  },
  {
   "cell_type": "code",
   "execution_count": 1,
   "id": "141a188c",
   "metadata": {},
   "outputs": [],
   "source": [
    "import random\n",
    "import math"
   ]
  },
  {
   "cell_type": "code",
   "execution_count": 3,
   "id": "ca2965f5",
   "metadata": {
    "scrolled": true
   },
   "outputs": [
    {
     "name": "stdout",
     "output_type": "stream",
     "text": [
      "[1745, 794, 928] [1191, 662, 932]\n"
     ]
    }
   ],
   "source": [
    "#solution1:use while loop\n",
    "def randomlist(length):\n",
    "    randomlist=[]\n",
    "    i=0\n",
    "    while (i<length):\n",
    "        number=random.randint(0,2000)\n",
    "        randomlist.append(number)\n",
    "        i = i + 1\n",
    "    return randomlist\n",
    "\n",
    "list1 = randomlist(3)\n",
    "list2 = randomlist(3)\n",
    "print(list1,list2)"
   ]
  },
  {
   "cell_type": "code",
   "execution_count": 4,
   "id": "58afd84c",
   "metadata": {},
   "outputs": [
    {
     "name": "stdout",
     "output_type": "stream",
     "text": [
      "[8, 0, 5] [3, 6, 2]\n"
     ]
    }
   ],
   "source": [
    "#solution2:use random.sample\n",
    "def mylist(length):\n",
    "    list3 = random.sample(range(0,10),length)\n",
    "    list4 = random.sample(range(0,10),length)\n",
    "    return list3,list4\n",
    "list3,list4 = mylist(3)\n",
    "print(list3,list4)"
   ]
  },
  {
   "cell_type": "markdown",
   "id": "fa6ac201",
   "metadata": {},
   "source": [
    "Question2. Write a function that takes two Python lists as input and calculates the dot product. That is, we are assuming that the two lists represent vectors. You should use appropriate Python loops and no additional library functions. You should also consider appropriate error checking."
   ]
  },
  {
   "cell_type": "code",
   "execution_count": 8,
   "id": "ba0e9151",
   "metadata": {},
   "outputs": [
    {
     "data": {
      "text/plain": [
       "3468819"
      ]
     },
     "execution_count": 8,
     "metadata": {},
     "output_type": "execute_result"
    }
   ],
   "source": [
    "def product1(list1,list2):\n",
    "    #consider error checking\n",
    "    if (len(list1)!=len(list2)):\n",
    "        print('This two lists are not the same size and cannot be dot producted')\n",
    "        return None\n",
    "    result=0\n",
    "    for i in range(len(list1)):\n",
    "        result = result + (list1[i] * list2[i])\n",
    "    return result\n",
    "product1(list1,list2)"
   ]
  },
  {
   "cell_type": "markdown",
   "id": "c18d85a8",
   "metadata": {},
   "source": [
    "Question3. Write a function to generate two NumPy arrays of the same size that contain random integer data. The function should take as an argument the desired size of the array."
   ]
  },
  {
   "cell_type": "code",
   "execution_count": 9,
   "id": "e01eb45e",
   "metadata": {},
   "outputs": [
    {
     "name": "stdout",
     "output_type": "stream",
     "text": [
      "[1431 1938  834] [ 842 1801  977]\n"
     ]
    }
   ],
   "source": [
    "import numpy as np\n",
    "def Arrays(length):\n",
    "    a1 = np.random.randint(0,2000,length)\n",
    "    return a1\n",
    "a =Arrays(3) \n",
    "b =Arrays(3) \n",
    "print(a,b)"
   ]
  },
  {
   "cell_type": "markdown",
   "id": "6ae4714d",
   "metadata": {},
   "source": [
    "Quesiton4. Write a function that takes two NumPy arrays as input and applies the built-in NumPy dot product. You should consider appropriate error checking."
   ]
  },
  {
   "cell_type": "code",
   "execution_count": 10,
   "id": "81384e54",
   "metadata": {},
   "outputs": [
    {
     "data": {
      "text/plain": [
       "5510058"
      ]
     },
     "execution_count": 10,
     "metadata": {},
     "output_type": "execute_result"
    }
   ],
   "source": [
    "def product2(a,b): \n",
    "    #consider error checking\n",
    "    #The default input is a one-dimensional array, so shape and size are the same\n",
    "    if(np.size(a)!=np.size(b)):\n",
    "        print('Please provide the same size of arrays')\n",
    "        return None\n",
    "    f = np.dot(a,b)\n",
    "    return f\n",
    "product2(a,b)"
   ]
  },
  {
   "cell_type": "code",
   "execution_count": 13,
   "id": "56af3e02",
   "metadata": {},
   "outputs": [
    {
     "name": "stdout",
     "output_type": "stream",
     "text": [
      "the dimensions are correct\n",
      "the shape of a is equal to b\n",
      "the size of a is equal to b\n"
     ]
    }
   ],
   "source": [
    "#Additional, when dealing with multi-dimensional arrays,multiple error checking needs to be considered\n",
    "if (a.ndim==b.ndim):\n",
    "    print('the dimensions are correct')\n",
    "    if (np.shape(a)==np.shape(b)):\n",
    "        print('the shape of a is equal to b')\n",
    "        if(np.size(a)==np.size(b)):\n",
    "            print('the size of a is equal to b')\n",
    "        else:\n",
    "            print('Please provide the same size of arrays')\n",
    "    else:\n",
    "        print('Please provide the same shape of arrays')\n",
    "else:\n",
    "    print('Please provide the same dimension of arrays')"
   ]
  },
  {
   "cell_type": "markdown",
   "id": "ab15aa43",
   "metadata": {},
   "source": [
    "Question5. Time your functions from Q2 and Q4 on an appropriate range of input sizes (using your solutions to Q1 and Q3 to generate the inputs). Use the data you collect to draw graphs (using matplotlib) that compare the performance of your functions."
   ]
  },
  {
   "cell_type": "code",
   "execution_count": 14,
   "id": "2cc4064f",
   "metadata": {},
   "outputs": [
    {
     "name": "stdout",
     "output_type": "stream",
     "text": [
      "1.83 µs ± 10.5 ns per loop (mean ± std. dev. of 7 runs, 1,000,000 loops each)\n",
      "228 ns ± 1.47 ns per loop (mean ± std. dev. of 7 runs, 1,000,000 loops each)\n",
      "1.93 µs ± 8.4 ns per loop (mean ± std. dev. of 7 runs, 1,000,000 loops each)\n",
      "23.3 µs ± 983 ns per loop (mean ± std. dev. of 7 runs, 10,000 loops each)\n",
      "2.11 µs ± 24.5 ns per loop (mean ± std. dev. of 7 runs, 100,000 loops each)\n",
      "46.6 µs ± 249 ns per loop (mean ± std. dev. of 7 runs, 10,000 loops each)\n",
      "2.2 µs ± 15.9 ns per loop (mean ± std. dev. of 7 runs, 100,000 loops each)\n",
      "71.4 µs ± 1.01 µs per loop (mean ± std. dev. of 7 runs, 10,000 loops each)\n",
      "2.32 µs ± 13.7 ns per loop (mean ± std. dev. of 7 runs, 100,000 loops each)\n",
      "94.8 µs ± 613 ns per loop (mean ± std. dev. of 7 runs, 10,000 loops each)\n",
      "2.47 µs ± 17.8 ns per loop (mean ± std. dev. of 7 runs, 100,000 loops each)\n",
      "119 µs ± 718 ns per loop (mean ± std. dev. of 7 runs, 10,000 loops each)\n",
      "2.57 µs ± 20.2 ns per loop (mean ± std. dev. of 7 runs, 100,000 loops each)\n",
      "146 µs ± 954 ns per loop (mean ± std. dev. of 7 runs, 10,000 loops each)\n",
      "2.7 µs ± 24.9 ns per loop (mean ± std. dev. of 7 runs, 100,000 loops each)\n",
      "172 µs ± 1.03 µs per loop (mean ± std. dev. of 7 runs, 10,000 loops each)\n"
     ]
    }
   ],
   "source": [
    "#solution1:use %timeit, and define coordinates directly in terms of time values\n",
    "import time\n",
    "i=0\n",
    "for i in range(0,2000,250):\n",
    "    c =Arrays(i)\n",
    "    d =Arrays(i)\n",
    "    %timeit product2(c,d)\n",
    "    list5 = randomlist(i)\n",
    "    list6 = randomlist(i)\n",
    "    %timeit product1(list5,list6)"
   ]
  },
  {
   "cell_type": "code",
   "execution_count": 15,
   "id": "60266604",
   "metadata": {},
   "outputs": [
    {
     "data": {
      "image/png": "[encoded data removed]",
      "text/plain": [
       "<Figure size 432x288 with 1 Axes>"
      ]
     },
     "metadata": {
      "needs_background": "light"
     },
     "output_type": "display_data"
    }
   ],
   "source": [
    "#solution1:use %timeit, and define coordinates directly in terms of time values\n",
    "import matplotlib.pyplot as plt\n",
    "\n",
    "x = np.array([0,250,500,750,1000,1250,1500,1750])\n",
    "y = np.array([0.228,23.3,46.6,71.4,94.8,119,146,172])\n",
    "z = np.array([1.83,1.93,2.11,2.2,2.32,2.47,2.57,2.7])\n",
    "\n",
    "\n",
    "fig = plt.figure()\n",
    "\n",
    "plt.plot(x,y, label=\"Python dot product\");\n",
    "plt.plot(x,z, label=\"Numpy dot product\");\n",
    "\n",
    "plt.title(\"Comparing dot product runtimes\")\n",
    "plt.xlabel(\"Input data size\")\n",
    "plt.ylabel(\"Runtime (µs)\");\n",
    "\n",
    "plt.legend();\n",
    "\n",
    "fig.savefig('dot product1.png')"
   ]
  },
  {
   "cell_type": "code",
   "execution_count": 16,
   "id": "0a94e25a",
   "metadata": {},
   "outputs": [
    {
     "data": {
      "image/png": "[encoded data removed]",
      "text/plain": [
       "<Figure size 432x288 with 1 Axes>"
      ]
     },
     "metadata": {
      "needs_background": "light"
     },
     "output_type": "display_data"
    }
   ],
   "source": [
    "#solution2:\n",
    "#When we do not input the values of the axes by hand\n",
    "#we use loop input, combined with the code from above\n",
    "\n",
    "import matplotlib.pyplot as plt\n",
    "import time\n",
    "arr_time = []\n",
    "list_time = []\n",
    "\n",
    "for i in range(1,200,10):\n",
    "    arr1 = Arrays(i)\n",
    "    arr2 = Arrays(i)\n",
    "    \n",
    "    list7 = randomlist(i)\n",
    "    list8 = randomlist(i)\n",
    "    \n",
    "    start_arr = time.time()\n",
    "    for _ in range(200):\n",
    "        product2(arr1,arr2)\n",
    "    arr_time.append(time.time() - start_arr)\n",
    "    \n",
    "    start_list = time.time()\n",
    "    for _ in range(200):\n",
    "        product1(list7,list8)\n",
    "    list_time.append(time.time() - start_list)\n",
    "    \n",
    "x = np.arange(1,200,10)\n",
    "y = np.array(list_time)\n",
    "z = np.array(arr_time)\n",
    "\n",
    "\n",
    "fig = plt.figure()\n",
    "\n",
    "plt.plot(x,y, label=\"Python dot product\");\n",
    "plt.plot(x,z, label=\"Numpy dot product\");\n",
    "\n",
    "plt.title(\"Comparing dot product runtimes\")\n",
    "plt.xlabel(\"Input data size\")\n",
    "plt.ylabel(\"Runtime (s)\");\n",
    "\n",
    "plt.legend();\n",
    "\n",
    "fig.savefig('dot product2.png')"
   ]
  },
  {
   "cell_type": "markdown",
   "id": "28db3715",
   "metadata": {},
   "source": [
    "Question6. Discuss in 250 words or less what your results show. You should consider the computational complexity of your functions. If you don’t manage to collect any data you should research and discuss what you would expect the results to show."
   ]
  },
  {
   "cell_type": "markdown",
   "id": "86bba94c",
   "metadata": {},
   "source": [
    "#### Answer :  \n",
    "The result is that NumPy is more efficient than list.\n",
    "\n",
    "According to solution1, by outputting the time values with the %timeit function and defining the axis with the data of the time values, we can easily find from the chart of dot product1 that: when the array is small, like 0, list is faster than NumPy, when the array is large, NumPy is faster than list, and when the size rises to 250, as shown above, the difference becomes obvious. As the size continues to rise, the difference becomes larger and larger.\n",
    "\n",
    "According to solution2, the time to calculate the dot product for list and the dot product for NumPy, which are calculated by subtracting the start time from the end time, through a for loop. By reducing the range of values to 0-200 in steps of 10, it is clear from the plot of dot product2 that at around 30, NumPy and list are as fast as each other, i.e., the intersection point, before 30, list is faster, and after 30, NumPy is faster.\n",
    "\n",
    "This is because in list I am using a 'for' loop to compute, and NumPy has parallel acceleration, but when the array is very small this parallelism is not as effective and slows down. The larger the array, the more the list time rises linearly, but NumPy remains essentially the same.\n",
    "\n",
    "Another reason is that an array is a collection of homogeneous data types stored in contiguous memory locations."
   ]
  },
  {
   "cell_type": "markdown",
   "id": "838e9ed7",
   "metadata": {},
   "source": [
    "#### Section 2"
   ]
  },
  {
   "cell_type": "markdown",
   "id": "4bcee84d",
   "metadata": {},
   "source": [
    "Question7. Write a function to generate an ‘nxn’ matrix of random integer data.Your matrix variable should be an object of type “numpy.ndarray”. The function should take as an argument the desired size of the matrix (the value ‘n’)."
   ]
  },
  {
   "cell_type": "code",
   "execution_count": 28,
   "id": "2cfc1c92",
   "metadata": {},
   "outputs": [],
   "source": [
    "def myArray(n):\n",
    "    L = np.random.randint(0,10,(n,n),dtype=np.int64)\n",
    "    return L"
   ]
  },
  {
   "cell_type": "markdown",
   "id": "614acaff",
   "metadata": {},
   "source": [
    "Question8. Write a function that can find the determinant of a 3 x 3 matrix. You should use appropriate Python loops and no additional library functions. Use your function from Q7 to generate a 3 x 3 matrix and apply this function to that matrix."
   ]
  },
  {
   "cell_type": "code",
   "execution_count": 29,
   "id": "66a4d6ec",
   "metadata": {},
   "outputs": [
    {
     "name": "stdout",
     "output_type": "stream",
     "text": [
      "[[8 1 4]\n",
      " [0 4 8]\n",
      " [5 4 5]]\n",
      "-136\n"
     ]
    }
   ],
   "source": [
    "def myDet(array):\n",
    "    sum = 0\n",
    "    n = len(array)\n",
    "    for col in range(3):\n",
    "        res = array[0][col] \n",
    "        s = array[1][(col+1)%n]*array[2][(col+2)%n] - array[1][(col+2)%n]*array[2][(col+1)%n]\n",
    "        sum += res*s     \n",
    "    return sum\n",
    "\n",
    "t = myArray(3)\n",
    "print(t)\n",
    "print(myDet(t))"
   ]
  },
  {
   "cell_type": "markdown",
   "id": "55b8a61d",
   "metadata": {},
   "source": [
    "Question9. Write a function that takes an ‘n x n’ matrix as an argument and applies the built- in NumPy determinant function to that matrix."
   ]
  },
  {
   "cell_type": "code",
   "execution_count": 30,
   "id": "d2ea9f10",
   "metadata": {},
   "outputs": [
    {
     "name": "stdout",
     "output_type": "stream",
     "text": [
      "[[2 3 4 6]\n",
      " [5 5 2 5]\n",
      " [8 7 9 7]\n",
      " [8 2 3 7]]\n",
      "-749.9999999999992\n"
     ]
    }
   ],
   "source": [
    "def npdet(array):\n",
    "    return np.linalg.det(array)\n",
    "\n",
    "n = 4 # n could be any positive number\n",
    "matrix = myArray(n)\n",
    "print(matrix)\n",
    "print(npdet(matrix))"
   ]
  },
  {
   "cell_type": "markdown",
   "id": "16f4a6d7",
   "metadata": {},
   "source": [
    "Question10. Write a recursive function that can find the determinant of an ‘n x n’ matrix. The function should take an ‘n x n’ matrix as an argument. You should use appropriate Python loops and no additional library functions. You should also consider appropriate error checking."
   ]
  },
  {
   "cell_type": "code",
   "execution_count": 43,
   "id": "cccdb4af",
   "metadata": {},
   "outputs": [
    {
     "name": "stdout",
     "output_type": "stream",
     "text": [
      "[[9 6 7 5]\n",
      " [1 0 8 5]\n",
      " [6 9 4 2]\n",
      " [2 9 9 2]]\n"
     ]
    },
    {
     "data": {
      "text/plain": [
       "684"
      ]
     },
     "execution_count": 43,
     "metadata": {},
     "output_type": "execute_result"
    }
   ],
   "source": [
    "def pydet(m):    \n",
    "    n = len(m)\n",
    "    if n == 1:\n",
    "        return m[0][0]\n",
    "    elif n == 2:\n",
    "        return m[1][1]*m[0][0] - m[1][0]*m[0][1]\n",
    "    else:\n",
    "        res = 0\n",
    "        for col in range(n):\n",
    "            arr = [[row[i] for i in range(n) if i != col] for row in m[1:]] \n",
    "            res += m[0][col] * pydet(arr) * (-1)**(col) \n",
    "        return res\n",
    "\n",
    "def mypydet(m):\n",
    "    #consider error checking\n",
    "    if type(m) != np.ndarray:\n",
    "        print('Error in array type')\n",
    "        return None\n",
    "    elif m.dtype!= np.int64:\n",
    "        print('Error in m dtype')\n",
    "        return None\n",
    "    elif len(m) <= 0:\n",
    "        print('Please provide a positive number n')\n",
    "        return None\n",
    "    \n",
    "    else:\n",
    "        return pydet(m)\n",
    "    \n",
    "n = 4\n",
    "m = myArray(n) \n",
    "print(m)\n",
    "mypydet(m)"
   ]
  },
  {
   "cell_type": "markdown",
   "id": "ee59f768",
   "metadata": {},
   "source": [
    "Question11. Time your functions from Q9 and Q10 on an appropriate range of input sizes (using your solution to Q7 to generate the inputs). Use the data you collect to draw graphs (using matplotlib) that compare the performance of your functions."
   ]
  },
  {
   "cell_type": "code",
   "execution_count": 46,
   "id": "66afd3c6",
   "metadata": {},
   "outputs": [
    {
     "data": {
      "image/png": "[encoded data removed]",
      "text/plain": [
       "<Figure size 432x288 with 1 Axes>"
      ]
     },
     "metadata": {
      "needs_background": "light"
     },
     "output_type": "display_data"
    }
   ],
   "source": [
    "import matplotlib.pyplot as plt\n",
    "import time\n",
    "\n",
    "my_used_time = []\n",
    "numpy_used_time = []\n",
    "\n",
    "for i in range(1,6):\n",
    "    matrix = myArray(i)\n",
    "    start1 = time.time()\n",
    "    mypydet(matrix)   \n",
    "    end1 = time.time()\n",
    "    my_used_time.append(end1-start1)\n",
    "    \n",
    "    start2 = time.time()\n",
    "    npdet(matrix)    \n",
    "    end2 = time.time()\n",
    "    numpy_used_time.append(end2-start2)\n",
    "    \n",
    "x = np.arange(1,6,1)\n",
    "y = np.array(my_used_time)\n",
    "z = np.array(numpy_used_time)\n",
    "\n",
    "fig = plt.figure()\n",
    "\n",
    "plt.plot(x,y, label=\"Python recursive function\");\n",
    "plt.plot(x,z, label=\"Numpy function of determinant\");\n",
    "\n",
    "plt.title(\"Comparing determinant runtimes\")\n",
    "plt.xlabel(\"Input data size\")\n",
    "plt.ylabel(\"Runtime (s)\");\n",
    "\n",
    "plt.legend();\n",
    "\n",
    "fig.savefig('determinant.png')"
   ]
  },
  {
   "cell_type": "markdown",
   "id": "29c8cd87",
   "metadata": {},
   "source": [
    "Question12. Discuss in 250 words or less what your results show. You should consider the computational complexity of your functions. If you don’t manage to collect any data to discuss you should research and discuss what you would expect the results to show."
   ]
  },
  {
   "cell_type": "markdown",
   "id": "89945b73",
   "metadata": {},
   "source": [
    "#### Answer:\n",
    "The result is that NumPy is faster than the recursive function when computing the determinant of n×n.\n",
    "\n",
    "As you can see from the graph named determinant, the recursive function is faster until n is approximately equal to 3, while after 3, NumPy is faster and takes very little time. And after n>5, the time taken by the recursive function explodes.\n",
    "\n",
    "The time taken by NumPy remains essentially the same whether calculating determinants of rank 1 or greater than rank 3.\n",
    "\n",
    "The recursive function creates a lot of arrays when calculating determinants of rank greater than 3, and the two for loops take too much time, in essence, to create the cofactor, which is too time-consuming.\n",
    "\n",
    "In fact, the essential reason is that NumPy is written in C and is therefore very fast to execute. By contrast, Python is a dynamic language that is interpreted, converted to bytecode and executed by the CPython interpreter. While C code has no slack, compiled C code will always be faster.\n",
    "\n",
    "Therefore, NumPy is very useful for performing mathematical and logical operations on Arrays. It provides several useful functions for manipulating n arrays and matrices in Python. Meanwhile, NumPy makes data more efficiently stored in memory, computed, and accessed.\n"
   ]
  },
  {
   "cell_type": "markdown",
   "id": "9a52b09d",
   "metadata": {},
   "source": [
    "#### Reference List\n",
    "GeeksforGeeks. (2020). Why is Numpy faster in Python? Available from: https://www.geeksforgeeks.org/why-numpy-is-faster-in-python/.\n",
    "\n",
    "Ehi Aigiomawu. (2018). Let’s talk about NumPy — for Data Science Beginners. Available from: https://towardsdatascience.com/lets-talk-about-numpy-for-datascience-beginners-b8088722309f\n",
    "\n",
    "David Bolton. (2016). 5 Reasons You Should Know NumPy. Available from: https://insights.dice.com/2016/09/01/5-reasons-know-numpy"
   ]
  }
 ],
 "metadata": {
  "kernelspec": {
   "display_name": "Python 3 (ipykernel)",
   "language": "python",
   "name": "python3"
  },
  "language_info": {
   "codemirror_mode": {
    "name": "ipython",
    "version": 3
   },
   "file_extension": ".py",
   "mimetype": "text/x-python",
   "name": "python",
   "nbconvert_exporter": "python",
   "pygments_lexer": "ipython3",
   "version": "3.9.12"
  }
 },
 "nbformat": 4,
 "nbformat_minor": 5
}
